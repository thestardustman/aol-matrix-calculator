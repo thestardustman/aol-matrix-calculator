{
 "cells": [
  {
   "cell_type": "code",
   "execution_count": 4,
   "metadata": {},
   "outputs": [],
   "source": [
    "import numpy as np\n",
    "\n",
    "def input_matrix():\n",
    "    \"\"\"Prompt the user to input a square matrix.\"\"\"\n",
    "    while True:\n",
    "        try:\n",
    "            n = int(input(\"Enter the size of the square matrix (n x n): \"))\n",
    "            print(\"Enter the matrix row by row (space-separated values):\")\n",
    "            matrix = []\n",
    "            for _ in range(n):\n",
    "                row = list(map(float, input().strip().split()))\n",
    "                if len(row) != n:\n",
    "                    raise ValueError(\"Each row must have exactly n values.\")\n",
    "                matrix.append(row)\n",
    "            return np.array(matrix)\n",
    "        except ValueError as e:\n",
    "            print(f\"Invalid input: {e}. Please try again.\")"
   ]
  },
  {
   "cell_type": "code",
   "execution_count": 5,
   "metadata": {},
   "outputs": [],
   "source": [
    "def calculate_eigen(matrix):\n",
    "    \"\"\"Calculate the eigenvalues and eigenvectors of a matrix.\"\"\"\n",
    "    eigenvalues, eigenvectors = np.linalg.eig(matrix)\n",
    "    return eigenvalues, eigenvectors"
   ]
  },
  {
   "cell_type": "code",
   "execution_count": 6,
   "metadata": {},
   "outputs": [],
   "source": [
    "def check_diagonalizability(matrix):\n",
    "    \"\"\"Check if a matrix is diagonalizable.\"\"\"\n",
    "    eigenvalues, eigenvectors = calculate_eigen(matrix)\n",
    "    unique_eigenvalues = set(eigenvalues)\n",
    "\n",
    "    for eigenvalue in unique_eigenvalues:\n",
    "        algebraic_multiplicity = np.count_nonzero(np.isclose(eigenvalues, eigenvalue))\n",
    "        geometric_multiplicity = np.linalg.matrix_rank(\n",
    "            eigenvectors[:, np.isclose(eigenvalues, eigenvalue)]\n",
    "        )\n",
    "\n",
    "        if algebraic_multiplicity != geometric_multiplicity:\n",
    "            return False, eigenvalues, eigenvectors\n",
    "\n",
    "    return True, eigenvalues, eigenvectors"
   ]
  },
  {
   "cell_type": "code",
   "execution_count": 7,
   "metadata": {},
   "outputs": [],
   "source": [
    "def main():\n",
    "    \"\"\"Main function to interact with the user.\"\"\"\n",
    "    print(\"Diagonalizable Matrix Checker\")\n",
    "    matrix = input_matrix()\n",
    "    is_diagonalizable, eigenvalues, eigenvectors = check_diagonalizability(matrix)\n",
    "\n",
    "    print(\"\\nMatrix:\")\n",
    "    print(matrix)\n",
    "    print(\"\\nEigenvalues:\")\n",
    "    print(eigenvalues)\n",
    "    print(\"\\nEigenvectors:\")\n",
    "    print(eigenvectors)\n",
    "\n",
    "    if is_diagonalizable:\n",
    "        print(\"\\nThe matrix is diagonalizable.\")\n",
    "    else:\n",
    "        print(\"\\nThe matrix is not diagonalizable.\")"
   ]
  },
  {
   "cell_type": "code",
   "execution_count": 8,
   "metadata": {},
   "outputs": [
    {
     "name": "stdout",
     "output_type": "stream",
     "text": [
      "Diagonalizable Matrix Checker\n",
      "Enter the matrix row by row (space-separated values):\n",
      "Invalid input: Each row must have exactly n values.. Please try again.\n",
      "Invalid input: invalid literal for int() with base 10: '4 1'. Please try again.\n",
      "Invalid input: invalid literal for int() with base 10: '4 1 \\\\n 0 3'. Please try again.\n",
      "Invalid input: invalid literal for int() with base 10: '4 1 0 3'. Please try again.\n",
      "Invalid input: invalid literal for int() with base 10: '4 1'. Please try again.\n",
      "Invalid input: invalid literal for int() with base 10: '4 1 0 3'. Please try again.\n"
     ]
    }
   ],
   "source": [
    "if __name__ == \"__main__\":\n",
    "    main()"
   ]
  }
 ],
 "metadata": {
  "kernelspec": {
   "display_name": "base",
   "language": "python",
   "name": "python3"
  },
  "language_info": {
   "codemirror_mode": {
    "name": "ipython",
    "version": 3
   },
   "file_extension": ".py",
   "mimetype": "text/x-python",
   "name": "python",
   "nbconvert_exporter": "python",
   "pygments_lexer": "ipython3",
   "version": "3.11.5"
  },
  "orig_nbformat": 4
 },
 "nbformat": 4,
 "nbformat_minor": 2
}
