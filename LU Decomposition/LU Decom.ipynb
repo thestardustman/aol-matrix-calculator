{
 "cells": [
  {
   "cell_type": "code",
   "execution_count": 6,
   "id": "c92cf482-0ee4-492b-bedf-01ddad9f6c4f",
   "metadata": {},
   "outputs": [],
   "source": [
    "import numpy as np\n",
    "\n",
    "def input_matrix():\n",
    "    \"\"\"Prompts the user to input a square matrix and validates the input.\"\"\"\n",
    "    while True:\n",
    "        try:\n",
    "            # Input dan validasi ukuran matriks\n",
    "            size = int(input(\"Enter the size of the square matrix (n x n): \"))\n",
    "            if size <= 0:  # Validasi ukuran matriks\n",
    "                raise ValueError(\"The size of the matrix must be greater than 0.\")\n",
    "            \n",
    "            print(\"Enter the matrix row by row, values separated by spaces:\")\n",
    "            matrix = []\n",
    "            for i in range(size):\n",
    "                row = list(map(float, input(f\"Row {i + 1}: \").split()))\n",
    "                if len(row) != size:\n",
    "                    raise ValueError(\"Each row must have exactly n elements.\")\n",
    "                matrix.append(row)\n",
    "            \n",
    "            return np.array(matrix)\n",
    "        \n",
    "        except ValueError as e:\n",
    "            print(f\"Invalid input: {e}. Please try again.\")\n"
   ]
  },
  {
   "cell_type": "code",
   "execution_count": 7,
   "id": "2aaf5256-47bd-4cbb-93b3-20e906449929",
   "metadata": {},
   "outputs": [],
   "source": [
    "def lu_decomposition(matrix):\n",
    "    \"\"\"Performs LU decomposition using Doolittle's method.\"\"\"\n",
    "    n = matrix.shape[0]\n",
    "    L = np.zeros((n, n))\n",
    "    U = np.zeros((n, n))\n",
    "\n",
    "    for i in range(n):\n",
    "        # Upper Triangular\n",
    "        for k in range(i, n):\n",
    "            sum_u = sum(L[i][j] * U[j][k] for j in range(i))\n",
    "            U[i][k] = matrix[i][k] - sum_u\n",
    "\n",
    "        # Lower Triangular\n",
    "        for k in range(i, n):\n",
    "            if i == k:\n",
    "                L[i][i] = 1  # Diagonal as 1\n",
    "            else:\n",
    "                sum_l = sum(L[k][j] * U[j][i] for j in range(i))\n",
    "                if U[i][i] == 0:\n",
    "                    raise ValueError(\"Matrix is singular and cannot be decomposed.\")\n",
    "                L[k][i] = (matrix[k][i] - sum_l) / U[i][i]\n",
    "\n",
    "    return L, U"
   ]
  },
  {
   "cell_type": "code",
   "execution_count": 8,
   "id": "327aebc4-2711-48a0-9e2b-5df7e331a1f1",
   "metadata": {},
   "outputs": [],
   "source": [
    "def main():\n",
    "    print(\"LU Decomposition Application\")\n",
    "    print(\"===========================\")\n",
    "\n",
    "    try:\n",
    "        matrix = input_matrix()\n",
    "        print(\"\\nInput Matrix:\")\n",
    "        print(matrix)\n",
    "\n",
    "        L, U = lu_decomposition(matrix)\n",
    "\n",
    "        print(\"\\nLower Triangular Matrix L:\")\n",
    "        print(L)\n",
    "\n",
    "        print(\"\\nUpper Triangular Matrix U:\")\n",
    "        print(U)\n",
    "\n",
    "    except ValueError as e:\n",
    "        print(f\"Error: {e}\")\n",
    "    except Exception as e:\n",
    "        print(f\"An unexpected error occurred: {e}\")\n"
   ]
  },
  {
   "cell_type": "code",
   "execution_count": 12,
   "id": "8bdf4c4e-730a-4e81-bae4-5f71be0d38a6",
   "metadata": {},
   "outputs": [
    {
     "name": "stdout",
     "output_type": "stream",
     "text": [
      "LU Decomposition Application\n",
      "===========================\n"
     ]
    },
    {
     "name": "stdin",
     "output_type": "stream",
     "text": [
      "Enter the size of the square matrix (n x n):  1\n"
     ]
    },
    {
     "name": "stdout",
     "output_type": "stream",
     "text": [
      "Enter the matrix row by row, values separated by spaces:\n"
     ]
    },
    {
     "name": "stdin",
     "output_type": "stream",
     "text": [
      "Row 1:  1000\n"
     ]
    },
    {
     "name": "stdout",
     "output_type": "stream",
     "text": [
      "\n",
      "Input Matrix:\n",
      "[[1000.]]\n",
      "\n",
      "Lower Triangular Matrix L:\n",
      "[[1.]]\n",
      "\n",
      "Upper Triangular Matrix U:\n",
      "[[1000.]]\n"
     ]
    }
   ],
   "source": [
    "if __name__ == \"__main__\":\n",
    "    main()"
   ]
  },
  {
   "cell_type": "code",
   "execution_count": null,
   "id": "929179d1-968f-41e9-af8e-a3eedc9f3ff6",
   "metadata": {},
   "outputs": [],
   "source": []
  }
 ],
 "metadata": {
  "kernelspec": {
   "display_name": "Python 3 (ipykernel)",
   "language": "python",
   "name": "python3"
  },
  "language_info": {
   "codemirror_mode": {
    "name": "ipython",
    "version": 3
   },
   "file_extension": ".py",
   "mimetype": "text/x-python",
   "name": "python",
   "nbconvert_exporter": "python",
   "pygments_lexer": "ipython3",
   "version": "3.11.5"
  }
 },
 "nbformat": 4,
 "nbformat_minor": 5
}
