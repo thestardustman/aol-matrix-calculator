{
  "nbformat": 4,
  "nbformat_minor": 0,
  "metadata": {
    "colab": {
      "provenance": []
    },
    "kernelspec": {
      "name": "python3",
      "display_name": "Python 3"
    },
    "language_info": {
      "name": "python"
    }
  },
  "cells": [
    {
      "cell_type": "code",
      "source": [
        "import numpy as np\n",
        "\n",
        "def create_matrix(rowsize, columnsize):\n",
        "  matrix = []\n",
        "\n",
        "  for i in range(rowsize):\n",
        "    row = []\n",
        "\n",
        "    for j in range(columnsize):\n",
        "      try:\n",
        "        nums = int(input(f\"Enter the value at index ({i}, {j}) (one at a time): \"))\n",
        "        row.append(nums)\n",
        "      except:\n",
        "        return\n",
        "\n",
        "    matrix.append(row)\n",
        "\n",
        "  return np.array(matrix)\n",
        "\n",
        "def SVD_function(matrix):\n",
        "  U, S, Vtranspose = np.linalg.svd(matrix)\n",
        "  return U, S, Vtranspose\n",
        "\n",
        "def main():\n",
        "  rowsize = int(input('Enter the Row size: '))\n",
        "  columnsize = int(input('Enter the Column size: '))\n",
        "\n",
        "  matrix = create_matrix(rowsize, columnsize)\n",
        "\n",
        "  if matrix is None:\n",
        "    print('Invalid input at an index')\n",
        "    return\n",
        "\n",
        "  print(\"\\nInputted Matrix: \")\n",
        "  print(matrix)\n",
        "  print(\"\\n\")\n",
        "\n",
        "  U, S, Vtranspose = SVD_function(matrix)\n",
        "  print(\"Matrix U :\")\n",
        "  print(U)\n",
        "  print(\"\\n\")\n",
        "\n",
        "  print(\"Matrix Σ :\")\n",
        "  S_final = np.zeros((matrix.shape[0], matrix.shape[1]))\n",
        "  np.fill_diagonal(S_final, S)\n",
        "  print(S_final)\n",
        "  print(\"\\n\")\n",
        "\n",
        "  print(\"Vᵀ (Right Singular Vectors):\")\n",
        "  print(Vtranspose)\n",
        "  print(\"\\n\")\n",
        "\n",
        "  print(\"Result check: \")\n",
        "  result_check = U @ S_final @ Vtranspose\n",
        "  print(result_check)\n",
        "\n",
        "main()"
      ],
      "metadata": {
        "colab": {
          "base_uri": "https://localhost:8080/"
        },
        "id": "K_A56edSooX8",
        "outputId": "b37436fa-cf49-4fa9-8ac3-68f0a954d7b8"
      },
      "execution_count": 40,
      "outputs": [
        {
          "output_type": "stream",
          "name": "stdout",
          "text": [
            "Enter the Row size: 2\n",
            "Enter the Column size: 3\n",
            "Enter the value at index (0, 0) (one at a time): 1\n",
            "Enter the value at index (0, 1) (one at a time): -1\n",
            "Enter the value at index (0, 2) (one at a time): 3\n",
            "Enter the value at index (1, 0) (one at a time): 3\n",
            "Enter the value at index (1, 1) (one at a time): 1\n",
            "Enter the value at index (1, 2) (one at a time): 1\n",
            "\n",
            "Inputted Matrix: \n",
            "[[ 1 -1  3]\n",
            " [ 3  1  1]]\n",
            "\n",
            "\n",
            "Matrix U :\n",
            "[[-0.70710678 -0.70710678]\n",
            " [-0.70710678  0.70710678]]\n",
            "\n",
            "\n",
            "Matrix Σ :\n",
            "[[4.         0.         0.        ]\n",
            " [0.         2.44948974 0.        ]]\n",
            "\n",
            "\n",
            "Vᵀ (Right Singular Vectors):\n",
            "[[-7.07106781e-01  1.20868191e-16 -7.07106781e-01]\n",
            " [ 5.77350269e-01  5.77350269e-01 -5.77350269e-01]\n",
            " [-4.08248290e-01  8.16496581e-01  4.08248290e-01]]\n",
            "\n",
            "\n",
            "Result check: \n",
            "[[ 1. -1.  3.]\n",
            " [ 3.  1.  1.]]\n"
          ]
        }
      ]
    }
  ]
}