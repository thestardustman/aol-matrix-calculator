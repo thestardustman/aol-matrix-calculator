{
 "cells": [
  {
   "cell_type": "code",
   "execution_count": 50,
   "id": "277217f9",
   "metadata": {},
   "outputs": [],
   "source": [
    "import numpy as np\n",
    "\n",
    "def power_method(matrix, max_iterations=10, tolerance=0.01):\n",
    "    \n",
    "    n = matrix.shape[0]\n",
    "\n",
    "    eigenvector = np.ones(n)\n",
    "    eigenvalue = 0\n",
    "\n",
    "    for i in range(max_iterations):\n",
    "       \n",
    "        new_vector = np.dot(matrix, eigenvector)\n",
    "\n",
    "        new_vector_norm = np.linalg.norm(new_vector)\n",
    "        new_eigenvector = new_vector / new_vector_norm\n",
    "  \n",
    "        new_eigenvalue = np.dot(new_eigenvector, np.dot(matrix, new_eigenvector))\n",
    "      \n",
    "        if np.abs(new_eigenvalue - eigenvalue) < tolerance:\n",
    "            return new_eigenvalue, new_eigenvector\n",
    "\n",
    "        eigenvector = new_eigenvector\n",
    "        eigenvalue = new_eigenvalue\n",
    "\n",
    "    return eigenvalue, eigenvector\n",
    "\n"
   ]
  },
  {
   "cell_type": "code",
   "execution_count": 51,
   "id": "78169495",
   "metadata": {},
   "outputs": [],
   "source": [
    "def main():\n",
    "    print(\"Power Method Application for Dominant Eigenvalue\")\n",
    "    \n",
    "    n = int(input(\"Enter the size of the matrix (n x n): \"))\n",
    "    print(\"Enter the matrix elements row by row:\")\n",
    "    matrix = []\n",
    "    for i in range(n):\n",
    "        row = list(map(float, input(f\"Row {i + 1}: \").split()))\n",
    "        if len(row) != n:\n",
    "            print(\"The matrix must be square\")\n",
    "            return\n",
    "        matrix.append(row)\n",
    "    matrix = np.array(matrix)\n",
    "\n",
    "    eigenvalue, eigenvector = power_method(matrix)\n",
    "\n",
    "    print(\"\\nResults:\")\n",
    "    print(f\"Dominant Eigenvalue: {eigenvalue:.6f}\")\n",
    "    print(\"Dominant Eigenvector:\")\n",
    "    print(eigenvector)\n",
    "\n"
   ]
  },
  {
   "cell_type": "code",
   "execution_count": 55,
   "id": "a67960d4",
   "metadata": {
    "scrolled": false
   },
   "outputs": [
    {
     "name": "stdout",
     "output_type": "stream",
     "text": [
      "Power Method Application for Dominant Eigenvalue\n",
      "Enter the size of the matrix (n x n): 2\n",
      "Enter the matrix elements row by row:\n",
      "Row 1: 1 2\n",
      "Row 2: 2 1\n",
      "\n",
      "Results:\n",
      "Dominant Eigenvalue: 3.000000\n",
      "Dominant Eigenvector:\n",
      "[0.70710678 0.70710678]\n"
     ]
    }
   ],
   "source": [
    "if __name__ == \"__main__\":\n",
    "    main()"
   ]
  },
  {
   "cell_type": "code",
   "execution_count": null,
   "id": "c624bdf6",
   "metadata": {},
   "outputs": [],
   "source": []
  },
  {
   "cell_type": "code",
   "execution_count": null,
   "id": "99fb2932",
   "metadata": {},
   "outputs": [],
   "source": []
  }
 ],
 "metadata": {
  "kernelspec": {
   "display_name": "Python 3 (ipykernel)",
   "language": "python",
   "name": "python3"
  },
  "language_info": {
   "codemirror_mode": {
    "name": "ipython",
    "version": 3
   },
   "file_extension": ".py",
   "mimetype": "text/x-python",
   "name": "python",
   "nbconvert_exporter": "python",
   "pygments_lexer": "ipython3",
   "version": "3.11.5"
  }
 },
 "nbformat": 4,
 "nbformat_minor": 5
}
